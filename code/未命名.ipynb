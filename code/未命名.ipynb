{
 "cells": [
  {
   "cell_type": "code",
   "execution_count": 1,
   "metadata": {},
   "outputs": [],
   "source": [
    "import numpy as np\n",
    "import paddle.fluid as fluid\n",
    "from data_loader import DataGenerator\n",
    "import paddle\n",
    "\n",
    "EPOCH = 1\n",
    "BATCH_SIZE = 64\n",
    "USE_GPU = False"
   ]
  },
  {
   "cell_type": "code",
   "execution_count": 3,
   "metadata": {},
   "outputs": [],
   "source": [
    "class MyModel(object):\n",
    "    def __init__(self, data: DataGenerator):\n",
    "        self.data_generate = data\n",
    "\n",
    "    def train(self):\n",
    "        place = fluid.CUDAPlace(0) if USE_GPU else fluid.CPUPlace()\n",
    "\n",
    "        with fluid.dygraph.guard(place):\n",
    "            model = SubjectModel()\n",
    "            optimizer = fluid.optimizer.SGDOptimizer(learning_rate=0.001, parameter_list=model.parameters())\n",
    "\n",
    "            for epoch in range(EPOCH):\n",
    "                for bt_id, data in enumerate(self.data_generate.__iter__()):\n",
    "                    data, _ = data\n",
    "                    t1, t2, s1, s2, k1, k2, o1, o2 = data\n",
    "                    continue\n",
    "\n",
    "                    x = fluid.dygraph.to_variable(img_data)\n",
    "                    y_true = fluid.dygraph.to_variable(label_data)\n",
    "\n",
    "                    y_pred = model(x)\n",
    "\n",
    "                    loss = fluid.layers.cross_entropy(y_pred, y_true)\n",
    "\n",
    "                    ave_loss = fluid.layers.mean(loss)\n",
    "\n",
    "                    if bt_id % 100 == 0:\n",
    "                        print('epoch:{}\\tbatch:{}\\tloss:{}'.format(epoch, bt_id, ave_loss.numpy()))\n",
    "\n",
    "                    ave_loss.backward()\n",
    "                    optimizer.minimize(ave_loss)\n",
    "                    model.clear_gradients()\n",
    "\n",
    "            fluid.save_dygraph(model.state_dict(), 'mnist_test.model')"
   ]
  },
  {
   "cell_type": "code",
   "execution_count": 7,
   "metadata": {},
   "outputs": [],
   "source": [
    "class SubjectModel(fluid.dygraph.Layer):\n",
    "    def __init__(self, name_scope=None):\n",
    "        super(SubjectModel, self).__init__(name_scope)\n",
    "\n",
    "    def forward(self, inputs):\n",
    "        x = fluid.layers.relu(inputs)\n",
    "        self._x_for_debug = x\n",
    "        x = fluid.layers.elementwise_mul(x, x)\n",
    "        x = fluid.layers.reduce_sum(x)\n",
    "        return [x]"
   ]
  },
  {
   "cell_type": "code",
   "execution_count": 4,
   "metadata": {},
   "outputs": [
    {
     "name": "stderr",
     "output_type": "stream",
     "text": [
      "2020-06-23 19:19:51,817-INFO: loading Word2Vec object from ../wiki/wiki.zh.text.model\n",
      "2020-06-23 19:19:57,861-INFO: loading wv recursively from ../wiki/wiki.zh.text.model.wv.* with mmap=None\n",
      "2020-06-23 19:19:57,862-INFO: loading vectors from ../wiki/wiki.zh.text.model.wv.vectors.npy with mmap=None\n",
      "2020-06-23 19:20:01,890-INFO: setting ignored attribute vectors_norm to None\n",
      "2020-06-23 19:20:01,891-INFO: loading vocabulary recursively from ../wiki/wiki.zh.text.model.vocabulary.* with mmap=None\n",
      "2020-06-23 19:20:01,893-INFO: loading trainables recursively from ../wiki/wiki.zh.text.model.trainables.* with mmap=None\n",
      "2020-06-23 19:20:01,893-INFO: loading syn1neg from ../wiki/wiki.zh.text.model.trainables.syn1neg.npy with mmap=None\n",
      "2020-06-23 19:20:04,750-INFO: setting ignored attribute cum_table to None\n",
      "2020-06-23 19:20:04,751-INFO: loaded ../wiki/wiki.zh.text.model\n"
     ]
    }
   ],
   "source": [
    "data_generate = DataGenerator(train=True, batch_size=64)"
   ]
  },
  {
   "cell_type": "code",
   "execution_count": 8,
   "metadata": {
    "scrolled": true
   },
   "outputs": [
    {
     "ename": "KeyboardInterrupt",
     "evalue": "",
     "output_type": "error",
     "traceback": [
      "\u001b[0;31m---------------------------------------------------------------------------\u001b[0m",
      "\u001b[0;31mKeyboardInterrupt\u001b[0m                         Traceback (most recent call last)",
      "\u001b[0;32m<ipython-input-8-d621efb4d658>\u001b[0m in \u001b[0;36m<module>\u001b[0;34m\u001b[0m\n\u001b[1;32m      1\u001b[0m \u001b[0mmy_model\u001b[0m \u001b[0;34m=\u001b[0m \u001b[0mMyModel\u001b[0m\u001b[0;34m(\u001b[0m\u001b[0mdata_generate\u001b[0m\u001b[0;34m)\u001b[0m\u001b[0;34m\u001b[0m\u001b[0;34m\u001b[0m\u001b[0m\n\u001b[0;32m----> 2\u001b[0;31m \u001b[0mmy_model\u001b[0m\u001b[0;34m.\u001b[0m\u001b[0mtrain\u001b[0m\u001b[0;34m(\u001b[0m\u001b[0;34m)\u001b[0m\u001b[0;34m\u001b[0m\u001b[0;34m\u001b[0m\u001b[0m\n\u001b[0m",
      "\u001b[0;32m<ipython-input-3-dca12d500dc6>\u001b[0m in \u001b[0;36mtrain\u001b[0;34m(self)\u001b[0m\n\u001b[1;32m     11\u001b[0m \u001b[0;34m\u001b[0m\u001b[0m\n\u001b[1;32m     12\u001b[0m             \u001b[0;32mfor\u001b[0m \u001b[0mepoch\u001b[0m \u001b[0;32min\u001b[0m \u001b[0mrange\u001b[0m\u001b[0;34m(\u001b[0m\u001b[0mEPOCH\u001b[0m\u001b[0;34m)\u001b[0m\u001b[0;34m:\u001b[0m\u001b[0;34m\u001b[0m\u001b[0;34m\u001b[0m\u001b[0m\n\u001b[0;32m---> 13\u001b[0;31m                 \u001b[0;32mfor\u001b[0m \u001b[0mbt_id\u001b[0m\u001b[0;34m,\u001b[0m \u001b[0mdata\u001b[0m \u001b[0;32min\u001b[0m \u001b[0menumerate\u001b[0m\u001b[0;34m(\u001b[0m\u001b[0mself\u001b[0m\u001b[0;34m.\u001b[0m\u001b[0mdata_generate\u001b[0m\u001b[0;34m.\u001b[0m\u001b[0m__iter__\u001b[0m\u001b[0;34m(\u001b[0m\u001b[0;34m)\u001b[0m\u001b[0;34m)\u001b[0m\u001b[0;34m:\u001b[0m\u001b[0;34m\u001b[0m\u001b[0;34m\u001b[0m\u001b[0m\n\u001b[0m\u001b[1;32m     14\u001b[0m                     \u001b[0mdata\u001b[0m\u001b[0;34m,\u001b[0m \u001b[0m_\u001b[0m \u001b[0;34m=\u001b[0m \u001b[0mdata\u001b[0m\u001b[0;34m\u001b[0m\u001b[0;34m\u001b[0m\u001b[0m\n\u001b[1;32m     15\u001b[0m                     \u001b[0mt1\u001b[0m\u001b[0;34m,\u001b[0m \u001b[0mt2\u001b[0m\u001b[0;34m,\u001b[0m \u001b[0ms1\u001b[0m\u001b[0;34m,\u001b[0m \u001b[0ms2\u001b[0m\u001b[0;34m,\u001b[0m \u001b[0mk1\u001b[0m\u001b[0;34m,\u001b[0m \u001b[0mk2\u001b[0m\u001b[0;34m,\u001b[0m \u001b[0mo1\u001b[0m\u001b[0;34m,\u001b[0m \u001b[0mo2\u001b[0m \u001b[0;34m=\u001b[0m \u001b[0mdata\u001b[0m\u001b[0;34m\u001b[0m\u001b[0;34m\u001b[0m\u001b[0m\n",
      "\u001b[0;32m~/PycharmProjects/DGCNN/code/data_loader.py\u001b[0m in \u001b[0;36m__iter__\u001b[0;34m(self)\u001b[0m\n\u001b[1;32m    208\u001b[0m                 \u001b[0mspo_list_key\u001b[0m \u001b[0;34m=\u001b[0m \u001b[0;34m'spo_list'\u001b[0m  \u001b[0;31m# if np.random.random() > 0.5 else 'spo_list_with_pred'\u001b[0m\u001b[0;34m\u001b[0m\u001b[0;34m\u001b[0m\u001b[0m\n\u001b[1;32m    209\u001b[0m                 d = self.data_loader.random_generate(\n\u001b[0;32m--> 210\u001b[0;31m                     self.data[i], spo_list_key)\n\u001b[0m\u001b[1;32m    211\u001b[0m                 \u001b[0mtext\u001b[0m \u001b[0;34m=\u001b[0m \u001b[0md\u001b[0m\u001b[0;34m[\u001b[0m\u001b[0;34m'text'\u001b[0m\u001b[0;34m]\u001b[0m\u001b[0;34m[\u001b[0m\u001b[0;34m:\u001b[0m\u001b[0mself\u001b[0m\u001b[0;34m.\u001b[0m\u001b[0mdata_loader\u001b[0m\u001b[0;34m.\u001b[0m\u001b[0mmaxlen\u001b[0m\u001b[0;34m]\u001b[0m\u001b[0;34m\u001b[0m\u001b[0;34m\u001b[0m\u001b[0m\n\u001b[1;32m    212\u001b[0m                 \u001b[0mtext_words\u001b[0m \u001b[0;34m=\u001b[0m \u001b[0mself\u001b[0m\u001b[0;34m.\u001b[0m\u001b[0mdata_loader\u001b[0m\u001b[0;34m.\u001b[0m\u001b[0mtokenize\u001b[0m\u001b[0;34m(\u001b[0m\u001b[0mtext\u001b[0m\u001b[0;34m)\u001b[0m\u001b[0;34m\u001b[0m\u001b[0;34m\u001b[0m\u001b[0m\n",
      "\u001b[0;32m~/PycharmProjects/DGCNN/code/data_loader.py\u001b[0m in \u001b[0;36mrandom_generate\u001b[0;34m(self, d, spo_list_key)\u001b[0m\n\u001b[1;32m    172\u001b[0m             \u001b[0;32mreturn\u001b[0m \u001b[0md\u001b[0m\u001b[0;34m\u001b[0m\u001b[0;34m\u001b[0m\u001b[0m\n\u001b[1;32m    173\u001b[0m         \u001b[0;32melse\u001b[0m\u001b[0;34m:\u001b[0m\u001b[0;34m\u001b[0m\u001b[0;34m\u001b[0m\u001b[0m\n\u001b[0;32m--> 174\u001b[0;31m             \u001b[0mk\u001b[0m \u001b[0;34m=\u001b[0m \u001b[0mnp\u001b[0m\u001b[0;34m.\u001b[0m\u001b[0mrandom\u001b[0m\u001b[0;34m.\u001b[0m\u001b[0mrandint\u001b[0m\u001b[0;34m(\u001b[0m\u001b[0mlen\u001b[0m\u001b[0;34m(\u001b[0m\u001b[0md\u001b[0m\u001b[0;34m[\u001b[0m\u001b[0mspo_list_key\u001b[0m\u001b[0;34m]\u001b[0m\u001b[0;34m)\u001b[0m\u001b[0;34m)\u001b[0m\u001b[0;34m\u001b[0m\u001b[0;34m\u001b[0m\u001b[0m\n\u001b[0m\u001b[1;32m    175\u001b[0m             \u001b[0mspi\u001b[0m \u001b[0;34m=\u001b[0m \u001b[0md\u001b[0m\u001b[0;34m[\u001b[0m\u001b[0mspo_list_key\u001b[0m\u001b[0;34m]\u001b[0m\u001b[0;34m[\u001b[0m\u001b[0mk\u001b[0m\u001b[0;34m]\u001b[0m\u001b[0;34m\u001b[0m\u001b[0;34m\u001b[0m\u001b[0m\n\u001b[1;32m    176\u001b[0m             \u001b[0mk\u001b[0m \u001b[0;34m=\u001b[0m \u001b[0mnp\u001b[0m\u001b[0;34m.\u001b[0m\u001b[0mrandom\u001b[0m\u001b[0;34m.\u001b[0m\u001b[0mrandint\u001b[0m\u001b[0;34m(\u001b[0m\u001b[0mlen\u001b[0m\u001b[0;34m(\u001b[0m\u001b[0mself\u001b[0m\u001b[0;34m.\u001b[0m\u001b[0mpredicates\u001b[0m\u001b[0;34m[\u001b[0m\u001b[0mspi\u001b[0m\u001b[0;34m[\u001b[0m\u001b[0;36m1\u001b[0m\u001b[0;34m]\u001b[0m\u001b[0;34m]\u001b[0m\u001b[0;34m)\u001b[0m\u001b[0;34m)\u001b[0m\u001b[0;34m\u001b[0m\u001b[0;34m\u001b[0m\u001b[0m\n",
      "\u001b[0;32mmtrand.pyx\u001b[0m in \u001b[0;36mnumpy.random.mtrand.RandomState.randint\u001b[0;34m()\u001b[0m\n",
      "\u001b[0;32m~/opt/anaconda3/lib/python3.7/site-packages/numpy/core/_dtype.py\u001b[0m in \u001b[0;36m_name_get\u001b[0;34m(dtype)\u001b[0m\n\u001b[1;32m    345\u001b[0m \u001b[0;34m\u001b[0m\u001b[0m\n\u001b[1;32m    346\u001b[0m     \u001b[0;31m# append bit counts\u001b[0m\u001b[0;34m\u001b[0m\u001b[0;34m\u001b[0m\u001b[0;34m\u001b[0m\u001b[0m\n\u001b[0;32m--> 347\u001b[0;31m     \u001b[0;32mif\u001b[0m \u001b[0m_name_includes_bit_suffix\u001b[0m\u001b[0;34m(\u001b[0m\u001b[0mdtype\u001b[0m\u001b[0;34m)\u001b[0m\u001b[0;34m:\u001b[0m\u001b[0;34m\u001b[0m\u001b[0;34m\u001b[0m\u001b[0m\n\u001b[0m\u001b[1;32m    348\u001b[0m         \u001b[0mname\u001b[0m \u001b[0;34m+=\u001b[0m \u001b[0;34m\"{}\"\u001b[0m\u001b[0;34m.\u001b[0m\u001b[0mformat\u001b[0m\u001b[0;34m(\u001b[0m\u001b[0mdtype\u001b[0m\u001b[0;34m.\u001b[0m\u001b[0mitemsize\u001b[0m \u001b[0;34m*\u001b[0m \u001b[0;36m8\u001b[0m\u001b[0;34m)\u001b[0m\u001b[0;34m\u001b[0m\u001b[0;34m\u001b[0m\u001b[0m\n\u001b[1;32m    349\u001b[0m \u001b[0;34m\u001b[0m\u001b[0m\n",
      "\u001b[0;32m~/opt/anaconda3/lib/python3.7/site-packages/numpy/core/_dtype.py\u001b[0m in \u001b[0;36m_name_includes_bit_suffix\u001b[0;34m(dtype)\u001b[0m\n\u001b[1;32m    324\u001b[0m         \u001b[0;31m# implied\u001b[0m\u001b[0;34m\u001b[0m\u001b[0;34m\u001b[0m\u001b[0;34m\u001b[0m\u001b[0m\n\u001b[1;32m    325\u001b[0m         \u001b[0;32mreturn\u001b[0m \u001b[0;32mFalse\u001b[0m\u001b[0;34m\u001b[0m\u001b[0;34m\u001b[0m\u001b[0m\n\u001b[0;32m--> 326\u001b[0;31m     \u001b[0;32melif\u001b[0m \u001b[0mnp\u001b[0m\u001b[0;34m.\u001b[0m\u001b[0missubdtype\u001b[0m\u001b[0;34m(\u001b[0m\u001b[0mdtype\u001b[0m\u001b[0;34m,\u001b[0m \u001b[0mnp\u001b[0m\u001b[0;34m.\u001b[0m\u001b[0mflexible\u001b[0m\u001b[0;34m)\u001b[0m \u001b[0;32mand\u001b[0m \u001b[0m_isunsized\u001b[0m\u001b[0;34m(\u001b[0m\u001b[0mdtype\u001b[0m\u001b[0;34m)\u001b[0m\u001b[0;34m:\u001b[0m\u001b[0;34m\u001b[0m\u001b[0;34m\u001b[0m\u001b[0m\n\u001b[0m\u001b[1;32m    327\u001b[0m         \u001b[0;31m# unspecified\u001b[0m\u001b[0;34m\u001b[0m\u001b[0;34m\u001b[0m\u001b[0;34m\u001b[0m\u001b[0m\n\u001b[1;32m    328\u001b[0m         \u001b[0;32mreturn\u001b[0m \u001b[0;32mFalse\u001b[0m\u001b[0;34m\u001b[0m\u001b[0;34m\u001b[0m\u001b[0m\n",
      "\u001b[0;32m~/opt/anaconda3/lib/python3.7/site-packages/numpy/core/numerictypes.py\u001b[0m in \u001b[0;36missubdtype\u001b[0;34m(arg1, arg2)\u001b[0m\n\u001b[1;32m    390\u001b[0m \u001b[0;34m\u001b[0m\u001b[0m\n\u001b[1;32m    391\u001b[0m     \"\"\"\n\u001b[0;32m--> 392\u001b[0;31m     \u001b[0;32mif\u001b[0m \u001b[0;32mnot\u001b[0m \u001b[0missubclass_\u001b[0m\u001b[0;34m(\u001b[0m\u001b[0marg1\u001b[0m\u001b[0;34m,\u001b[0m \u001b[0mgeneric\u001b[0m\u001b[0;34m)\u001b[0m\u001b[0;34m:\u001b[0m\u001b[0;34m\u001b[0m\u001b[0;34m\u001b[0m\u001b[0m\n\u001b[0m\u001b[1;32m    393\u001b[0m         \u001b[0marg1\u001b[0m \u001b[0;34m=\u001b[0m \u001b[0mdtype\u001b[0m\u001b[0;34m(\u001b[0m\u001b[0marg1\u001b[0m\u001b[0;34m)\u001b[0m\u001b[0;34m.\u001b[0m\u001b[0mtype\u001b[0m\u001b[0;34m\u001b[0m\u001b[0;34m\u001b[0m\u001b[0m\n\u001b[1;32m    394\u001b[0m     \u001b[0;32mif\u001b[0m \u001b[0;32mnot\u001b[0m \u001b[0missubclass_\u001b[0m\u001b[0;34m(\u001b[0m\u001b[0marg2\u001b[0m\u001b[0;34m,\u001b[0m \u001b[0mgeneric\u001b[0m\u001b[0;34m)\u001b[0m\u001b[0;34m:\u001b[0m\u001b[0;34m\u001b[0m\u001b[0;34m\u001b[0m\u001b[0m\n",
      "\u001b[0;32m~/opt/anaconda3/lib/python3.7/site-packages/numpy/core/numerictypes.py\u001b[0m in \u001b[0;36missubclass_\u001b[0;34m(arg1, arg2)\u001b[0m\n\u001b[1;32m    325\u001b[0m \u001b[0;34m\u001b[0m\u001b[0m\n\u001b[1;32m    326\u001b[0m     \"\"\"\n\u001b[0;32m--> 327\u001b[0;31m     \u001b[0;32mtry\u001b[0m\u001b[0;34m:\u001b[0m\u001b[0;34m\u001b[0m\u001b[0;34m\u001b[0m\u001b[0m\n\u001b[0m\u001b[1;32m    328\u001b[0m         \u001b[0;32mreturn\u001b[0m \u001b[0missubclass\u001b[0m\u001b[0;34m(\u001b[0m\u001b[0marg1\u001b[0m\u001b[0;34m,\u001b[0m \u001b[0marg2\u001b[0m\u001b[0;34m)\u001b[0m\u001b[0;34m\u001b[0m\u001b[0;34m\u001b[0m\u001b[0m\n\u001b[1;32m    329\u001b[0m     \u001b[0;32mexcept\u001b[0m \u001b[0mTypeError\u001b[0m\u001b[0;34m:\u001b[0m\u001b[0;34m\u001b[0m\u001b[0;34m\u001b[0m\u001b[0m\n",
      "\u001b[0;31mKeyboardInterrupt\u001b[0m: "
     ]
    }
   ],
   "source": [
    "my_model = MyModel(data_generate)\n",
    "my_model.train()"
   ]
  },
  {
   "cell_type": "code",
   "execution_count": 20,
   "metadata": {},
   "outputs": [],
   "source": [
    "from paddle.fluid.dygraph.base import to_variable\n",
    "import paddle.fluid as fluid\n",
    "from paddle.fluid.dygraph import Conv2D\n",
    "import numpy as np\n",
    "\n",
    "sent_len = 157\n",
    "\n",
    "data = np.random.uniform(-1, 1, [64, sent_len, 128]).astype('float32')\n",
    "data = to_variable(data)\n",
    "seq = fluid.layers.unsqueeze(data, axes=[1])\n",
    "sh = fluid.layers.shape(seq)\n"
   ]
  },
  {
   "cell_type": "code",
   "execution_count": 21,
   "metadata": {},
   "outputs": [
    {
     "name": "stdout",
     "output_type": "stream",
     "text": [
      "name tmp_8, dtype: VarType.INT32 shape: [4] \tlod: {}\n",
      "\tdim: 4\n",
      "\tlayout: NCHW\n",
      "\tdtype: int\n",
      "\tdata: [64 1 157 128]\n",
      "\n"
     ]
    }
   ],
   "source": [
    "print(sh)"
   ]
  },
  {
   "cell_type": "code",
   "execution_count": 56,
   "metadata": {},
   "outputs": [],
   "source": [
    "dim = 128\n",
    "\n",
    "dilation_rate = 1  #2 5\n",
    "kernel_size = 3\n",
    "rec_field = kernel_size + (kernel_size - 1) * (dilation_rate - 1)  # 感受野 等效核\n",
    "pad = rec_field // 2\n"
   ]
  },
  {
   "cell_type": "code",
   "execution_count": 57,
   "metadata": {},
   "outputs": [],
   "source": [
    "with fluid.dygraph.guard():\n",
    "    conv2d = Conv2D(num_channels=1, \n",
    "                    num_filters=dim * 2, \n",
    "                    filter_size=(3, 128), \n",
    "                    padding=(pad, 0),\n",
    "                    dilation=(dilation_rate, 1))\n",
    "    h = conv2d(seq)\n",
    "    "
   ]
  },
  {
   "cell_type": "code",
   "execution_count": 58,
   "metadata": {},
   "outputs": [
    {
     "name": "stdout",
     "output_type": "stream",
     "text": [
      "name tmp_4, dtype: VarType.INT32 shape: [4] \tlod: {}\n",
      "\tdim: 4\n",
      "\tlayout: NCHW\n",
      "\tdtype: int\n",
      "\tdata: [64 256 157 1]\n",
      "\n"
     ]
    }
   ],
   "source": [
    "sh = fluid.layers.shape(h)\n",
    "print(sh)"
   ]
  },
  {
   "cell_type": "code",
   "execution_count": 59,
   "metadata": {},
   "outputs": [
    {
     "name": "stdout",
     "output_type": "stream",
     "text": [
      "name tmp_7, dtype: VarType.INT32 shape: [3] \tlod: {}\n",
      "\tdim: 3\n",
      "\tlayout: NCHW\n",
      "\tdtype: int\n",
      "\tdata: [64 256 157]\n",
      "\n"
     ]
    }
   ],
   "source": [
    "h = fluid.layers.squeeze(h, axes=[3])\n",
    "sh = fluid.layers.shape(h)\n",
    "print(sh)"
   ]
  },
  {
   "cell_type": "code",
   "execution_count": 60,
   "metadata": {},
   "outputs": [
    {
     "name": "stdout",
     "output_type": "stream",
     "text": [
      "name tmp_8, dtype: VarType.INT32 shape: [3] \tlod: {}\n",
      "\tdim: 3\n",
      "\tlayout: NCHW\n",
      "\tdtype: int\n",
      "\tdata: [64 157 256]\n",
      "\n"
     ]
    }
   ],
   "source": [
    "h = fluid.layers.transpose(h, perm=[0, 2, 1])\n",
    "sh = fluid.layers.shape(h)\n",
    "print(sh)"
   ]
  },
  {
   "cell_type": "code",
   "execution_count": 71,
   "metadata": {},
   "outputs": [],
   "source": [
    "s1 = np.random.randint(0, 2, [64, 121]).astype('int64')\n",
    "s1 = to_variable(s1)"
   ]
  },
  {
   "cell_type": "code",
   "execution_count": 72,
   "metadata": {},
   "outputs": [],
   "source": [
    "ps1 = np.random.uniform(0, 1, [64, 121, 1]).astype('float32')\n",
    "ps1 = to_variable(p1)"
   ]
  },
  {
   "cell_type": "code",
   "execution_count": 73,
   "metadata": {},
   "outputs": [
    {
     "ename": "EnforceNotMet",
     "evalue": "\n\n--------------------------------------------\nC++ Call Stacks (More useful to developers):\n--------------------------------------------\n0   std::__1::basic_string<char, std::__1::char_traits<char>, std::__1::allocator<char> > paddle::platform::GetTraceBackString<char const*>(char const*&&, char const*, int)\n1   paddle::platform::EnforceNotMet::EnforceNotMet(std::exception_ptr, char const*, int)\n2   paddle::operators::HardLabelCrossEntropyForwardFunctor<float>::operator()(long long) const\n3   paddle::operators::CrossEntropyOpKernel2<paddle::platform::CPUDeviceContext, float>::Compute(paddle::framework::ExecutionContext const&) const\n4   std::__1::__function::__func<paddle::framework::OpKernelRegistrarFunctor<paddle::platform::CPUPlace, false, 0ul, paddle::operators::CrossEntropyOpKernel2<paddle::platform::CPUDeviceContext, float>, paddle::operators::CrossEntropyOpKernel2<paddle::platform::CPUDeviceContext, double> >::operator()(char const*, char const*, int) const::'lambda'(paddle::framework::ExecutionContext const&), std::__1::allocator<paddle::framework::OpKernelRegistrarFunctor<paddle::platform::CPUPlace, false, 0ul, paddle::operators::CrossEntropyOpKernel2<paddle::platform::CPUDeviceContext, float>, paddle::operators::CrossEntropyOpKernel2<paddle::platform::CPUDeviceContext, double> >::operator()(char const*, char const*, int) const::'lambda'(paddle::framework::ExecutionContext const&)>, void (paddle::framework::ExecutionContext const&)>::operator()(paddle::framework::ExecutionContext const&)\n5   paddle::imperative::PreparedOp::Run(std::__1::map<std::__1::basic_string<char, std::__1::char_traits<char>, std::__1::allocator<char> >, std::__1::vector<std::__1::shared_ptr<paddle::imperative::VarBase>, std::__1::allocator<std::__1::shared_ptr<paddle::imperative::VarBase> > >, std::__1::less<std::__1::basic_string<char, std::__1::char_traits<char>, std::__1::allocator<char> > >, std::__1::allocator<std::__1::pair<std::__1::basic_string<char, std::__1::char_traits<char>, std::__1::allocator<char> > const, std::__1::vector<std::__1::shared_ptr<paddle::imperative::VarBase>, std::__1::allocator<std::__1::shared_ptr<paddle::imperative::VarBase> > > > > > const&, std::__1::map<std::__1::basic_string<char, std::__1::char_traits<char>, std::__1::allocator<char> >, std::__1::vector<std::__1::shared_ptr<paddle::imperative::VarBase>, std::__1::allocator<std::__1::shared_ptr<paddle::imperative::VarBase> > >, std::__1::less<std::__1::basic_string<char, std::__1::char_traits<char>, std::__1::allocator<char> > >, std::__1::allocator<std::__1::pair<std::__1::basic_string<char, std::__1::char_traits<char>, std::__1::allocator<char> > const, std::__1::vector<std::__1::shared_ptr<paddle::imperative::VarBase>, std::__1::allocator<std::__1::shared_ptr<paddle::imperative::VarBase> > > > > > const&, std::__1::unordered_map<std::__1::basic_string<char, std::__1::char_traits<char>, std::__1::allocator<char> >, boost::variant<boost::blank, int, float, std::__1::basic_string<char, std::__1::char_traits<char>, std::__1::allocator<char> >, std::__1::vector<int, std::__1::allocator<int> >, std::__1::vector<float, std::__1::allocator<float> >, std::__1::vector<std::__1::basic_string<char, std::__1::char_traits<char>, std::__1::allocator<char> >, std::__1::allocator<std::__1::basic_string<char, std::__1::char_traits<char>, std::__1::allocator<char> > > >, bool, std::__1::vector<bool, std::__1::allocator<bool> >, paddle::framework::BlockDesc*, long long, std::__1::vector<paddle::framework::BlockDesc*, std::__1::allocator<paddle::framework::BlockDesc*> >, std::__1::vector<long long, std::__1::allocator<long long> >, boost::detail::variant::void_, boost::detail::variant::void_, boost::detail::variant::void_, boost::detail::variant::void_, boost::detail::variant::void_, boost::detail::variant::void_, boost::detail::variant::void_>, std::__1::hash<std::__1::basic_string<char, std::__1::char_traits<char>, std::__1::allocator<char> > >, std::__1::equal_to<std::__1::basic_string<char, std::__1::char_traits<char>, std::__1::allocator<char> > >, std::__1::allocator<std::__1::pair<std::__1::basic_string<char, std::__1::char_traits<char>, std::__1::allocator<char> > const, boost::variant<boost::blank, int, float, std::__1::basic_string<char, std::__1::char_traits<char>, std::__1::allocator<char> >, std::__1::vector<int, std::__1::allocator<int> >, std::__1::vector<float, std::__1::allocator<float> >, std::__1::vector<std::__1::basic_string<char, std::__1::char_traits<char>, std::__1::allocator<char> >, std::__1::allocator<std::__1::basic_string<char, std::__1::char_traits<char>, std::__1::allocator<char> > > >, bool, std::__1::vector<bool, std::__1::allocator<bool> >, paddle::framework::BlockDesc*, long long, std::__1::vector<paddle::framework::BlockDesc*, std::__1::allocator<paddle::framework::BlockDesc*> >, std::__1::vector<long long, std::__1::allocator<long long> >, boost::detail::variant::void_, boost::detail::variant::void_, boost::detail::variant::void_, boost::detail::variant::void_, boost::detail::variant::void_, boost::detail::variant::void_, boost::detail::variant::void_> > > > const&)\n6   paddle::imperative::OpBase::Run(paddle::framework::OperatorBase const&, std::__1::map<std::__1::basic_string<char, std::__1::char_traits<char>, std::__1::allocator<char> >, std::__1::vector<std::__1::shared_ptr<paddle::imperative::VarBase>, std::__1::allocator<std::__1::shared_ptr<paddle::imperative::VarBase> > >, std::__1::less<std::__1::basic_string<char, std::__1::char_traits<char>, std::__1::allocator<char> > >, std::__1::allocator<std::__1::pair<std::__1::basic_string<char, std::__1::char_traits<char>, std::__1::allocator<char> > const, std::__1::vector<std::__1::shared_ptr<paddle::imperative::VarBase>, std::__1::allocator<std::__1::shared_ptr<paddle::imperative::VarBase> > > > > > const&, std::__1::map<std::__1::basic_string<char, std::__1::char_traits<char>, std::__1::allocator<char> >, std::__1::vector<std::__1::shared_ptr<paddle::imperative::VarBase>, std::__1::allocator<std::__1::shared_ptr<paddle::imperative::VarBase> > >, std::__1::less<std::__1::basic_string<char, std::__1::char_traits<char>, std::__1::allocator<char> > >, std::__1::allocator<std::__1::pair<std::__1::basic_string<char, std::__1::char_traits<char>, std::__1::allocator<char> > const, std::__1::vector<std::__1::shared_ptr<paddle::imperative::VarBase>, std::__1::allocator<std::__1::shared_ptr<paddle::imperative::VarBase> > > > > > const&, std::__1::unordered_map<std::__1::basic_string<char, std::__1::char_traits<char>, std::__1::allocator<char> >, boost::variant<boost::blank, int, float, std::__1::basic_string<char, std::__1::char_traits<char>, std::__1::allocator<char> >, std::__1::vector<int, std::__1::allocator<int> >, std::__1::vector<float, std::__1::allocator<float> >, std::__1::vector<std::__1::basic_string<char, std::__1::char_traits<char>, std::__1::allocator<char> >, std::__1::allocator<std::__1::basic_string<char, std::__1::char_traits<char>, std::__1::allocator<char> > > >, bool, std::__1::vector<bool, std::__1::allocator<bool> >, paddle::framework::BlockDesc*, long long, std::__1::vector<paddle::framework::BlockDesc*, std::__1::allocator<paddle::framework::BlockDesc*> >, std::__1::vector<long long, std::__1::allocator<long long> >, boost::detail::variant::void_, boost::detail::variant::void_, boost::detail::variant::void_, boost::detail::variant::void_, boost::detail::variant::void_, boost::detail::variant::void_, boost::detail::variant::void_>, std::__1::hash<std::__1::basic_string<char, std::__1::char_traits<char>, std::__1::allocator<char> > >, std::__1::equal_to<std::__1::basic_string<char, std::__1::char_traits<char>, std::__1::allocator<char> > >, std::__1::allocator<std::__1::pair<std::__1::basic_string<char, std::__1::char_traits<char>, std::__1::allocator<char> > const, boost::variant<boost::blank, int, float, std::__1::basic_string<char, std::__1::char_traits<char>, std::__1::allocator<char> >, std::__1::vector<int, std::__1::allocator<int> >, std::__1::vector<float, std::__1::allocator<float> >, std::__1::vector<std::__1::basic_string<char, std::__1::char_traits<char>, std::__1::allocator<char> >, std::__1::allocator<std::__1::basic_string<char, std::__1::char_traits<char>, std::__1::allocator<char> > > >, bool, std::__1::vector<bool, std::__1::allocator<bool> >, paddle::framework::BlockDesc*, long long, std::__1::vector<paddle::framework::BlockDesc*, std::__1::allocator<paddle::framework::BlockDesc*> >, std::__1::vector<long long, std::__1::allocator<long long> >, boost::detail::variant::void_, boost::detail::variant::void_, boost::detail::variant::void_, boost::detail::variant::void_, boost::detail::variant::void_, boost::detail::variant::void_, boost::detail::variant::void_> > > > const&, paddle::platform::Place const&)\n7   paddle::imperative::Tracer::TraceOp(std::__1::basic_string<char, std::__1::char_traits<char>, std::__1::allocator<char> > const&, std::__1::map<std::__1::basic_string<char, std::__1::char_traits<char>, std::__1::allocator<char> >, std::__1::vector<std::__1::shared_ptr<paddle::imperative::VarBase>, std::__1::allocator<std::__1::shared_ptr<paddle::imperative::VarBase> > >, std::__1::less<std::__1::basic_string<char, std::__1::char_traits<char>, std::__1::allocator<char> > >, std::__1::allocator<std::__1::pair<std::__1::basic_string<char, std::__1::char_traits<char>, std::__1::allocator<char> > const, std::__1::vector<std::__1::shared_ptr<paddle::imperative::VarBase>, std::__1::allocator<std::__1::shared_ptr<paddle::imperative::VarBase> > > > > > const&, std::__1::map<std::__1::basic_string<char, std::__1::char_traits<char>, std::__1::allocator<char> >, std::__1::vector<std::__1::shared_ptr<paddle::imperative::VarBase>, std::__1::allocator<std::__1::shared_ptr<paddle::imperative::VarBase> > >, std::__1::less<std::__1::basic_string<char, std::__1::char_traits<char>, std::__1::allocator<char> > >, std::__1::allocator<std::__1::pair<std::__1::basic_string<char, std::__1::char_traits<char>, std::__1::allocator<char> > const, std::__1::vector<std::__1::shared_ptr<paddle::imperative::VarBase>, std::__1::allocator<std::__1::shared_ptr<paddle::imperative::VarBase> > > > > > const&, std::__1::unordered_map<std::__1::basic_string<char, std::__1::char_traits<char>, std::__1::allocator<char> >, boost::variant<boost::blank, int, float, std::__1::basic_string<char, std::__1::char_traits<char>, std::__1::allocator<char> >, std::__1::vector<int, std::__1::allocator<int> >, std::__1::vector<float, std::__1::allocator<float> >, std::__1::vector<std::__1::basic_string<char, std::__1::char_traits<char>, std::__1::allocator<char> >, std::__1::allocator<std::__1::basic_string<char, std::__1::char_traits<char>, std::__1::allocator<char> > > >, bool, std::__1::vector<bool, std::__1::allocator<bool> >, paddle::framework::BlockDesc*, long long, std::__1::vector<paddle::framework::BlockDesc*, std::__1::allocator<paddle::framework::BlockDesc*> >, std::__1::vector<long long, std::__1::allocator<long long> >, boost::detail::variant::void_, boost::detail::variant::void_, boost::detail::variant::void_, boost::detail::variant::void_, boost::detail::variant::void_, boost::detail::variant::void_, boost::detail::variant::void_>, std::__1::hash<std::__1::basic_string<char, std::__1::char_traits<char>, std::__1::allocator<char> > >, std::__1::equal_to<std::__1::basic_string<char, std::__1::char_traits<char>, std::__1::allocator<char> > >, std::__1::allocator<std::__1::pair<std::__1::basic_string<char, std::__1::char_traits<char>, std::__1::allocator<char> > const, boost::variant<boost::blank, int, float, std::__1::basic_string<char, std::__1::char_traits<char>, std::__1::allocator<char> >, std::__1::vector<int, std::__1::allocator<int> >, std::__1::vector<float, std::__1::allocator<float> >, std::__1::vector<std::__1::basic_string<char, std::__1::char_traits<char>, std::__1::allocator<char> >, std::__1::allocator<std::__1::basic_string<char, std::__1::char_traits<char>, std::__1::allocator<char> > > >, bool, std::__1::vector<bool, std::__1::allocator<bool> >, paddle::framework::BlockDesc*, long long, std::__1::vector<paddle::framework::BlockDesc*, std::__1::allocator<paddle::framework::BlockDesc*> >, std::__1::vector<long long, std::__1::allocator<long long> >, boost::detail::variant::void_, boost::detail::variant::void_, boost::detail::variant::void_, boost::detail::variant::void_, boost::detail::variant::void_, boost::detail::variant::void_, boost::detail::variant::void_> > > >, paddle::platform::Place const&, bool)\n8   paddle::imperative::Tracer::TraceOp(std::__1::basic_string<char, std::__1::char_traits<char>, std::__1::allocator<char> > const&, std::__1::map<std::__1::basic_string<char, std::__1::char_traits<char>, std::__1::allocator<char> >, std::__1::vector<std::__1::shared_ptr<paddle::imperative::VarBase>, std::__1::allocator<std::__1::shared_ptr<paddle::imperative::VarBase> > >, std::__1::less<std::__1::basic_string<char, std::__1::char_traits<char>, std::__1::allocator<char> > >, std::__1::allocator<std::__1::pair<std::__1::basic_string<char, std::__1::char_traits<char>, std::__1::allocator<char> > const, std::__1::vector<std::__1::shared_ptr<paddle::imperative::VarBase>, std::__1::allocator<std::__1::shared_ptr<paddle::imperative::VarBase> > > > > > const&, std::__1::map<std::__1::basic_string<char, std::__1::char_traits<char>, std::__1::allocator<char> >, std::__1::vector<std::__1::shared_ptr<paddle::imperative::VarBase>, std::__1::allocator<std::__1::shared_ptr<paddle::imperative::VarBase> > >, std::__1::less<std::__1::basic_string<char, std::__1::char_traits<char>, std::__1::allocator<char> > >, std::__1::allocator<std::__1::pair<std::__1::basic_string<char, std::__1::char_traits<char>, std::__1::allocator<char> > const, std::__1::vector<std::__1::shared_ptr<paddle::imperative::VarBase>, std::__1::allocator<std::__1::shared_ptr<paddle::imperative::VarBase> > > > > > const&, std::__1::unordered_map<std::__1::basic_string<char, std::__1::char_traits<char>, std::__1::allocator<char> >, boost::variant<boost::blank, int, float, std::__1::basic_string<char, std::__1::char_traits<char>, std::__1::allocator<char> >, std::__1::vector<int, std::__1::allocator<int> >, std::__1::vector<float, std::__1::allocator<float> >, std::__1::vector<std::__1::basic_string<char, std::__1::char_traits<char>, std::__1::allocator<char> >, std::__1::allocator<std::__1::basic_string<char, std::__1::char_traits<char>, std::__1::allocator<char> > > >, bool, std::__1::vector<bool, std::__1::allocator<bool> >, paddle::framework::BlockDesc*, long long, std::__1::vector<paddle::framework::BlockDesc*, std::__1::allocator<paddle::framework::BlockDesc*> >, std::__1::vector<long long, std::__1::allocator<long long> >, boost::detail::variant::void_, boost::detail::variant::void_, boost::detail::variant::void_, boost::detail::variant::void_, boost::detail::variant::void_, boost::detail::variant::void_, boost::detail::variant::void_>, std::__1::hash<std::__1::basic_string<char, std::__1::char_traits<char>, std::__1::allocator<char> > >, std::__1::equal_to<std::__1::basic_string<char, std::__1::char_traits<char>, std::__1::allocator<char> > >, std::__1::allocator<std::__1::pair<std::__1::basic_string<char, std::__1::char_traits<char>, std::__1::allocator<char> > const, boost::variant<boost::blank, int, float, std::__1::basic_string<char, std::__1::char_traits<char>, std::__1::allocator<char> >, std::__1::vector<int, std::__1::allocator<int> >, std::__1::vector<float, std::__1::allocator<float> >, std::__1::vector<std::__1::basic_string<char, std::__1::char_traits<char>, std::__1::allocator<char> >, std::__1::allocator<std::__1::basic_string<char, std::__1::char_traits<char>, std::__1::allocator<char> > > >, bool, std::__1::vector<bool, std::__1::allocator<bool> >, paddle::framework::BlockDesc*, long long, std::__1::vector<paddle::framework::BlockDesc*, std::__1::allocator<paddle::framework::BlockDesc*> >, std::__1::vector<long long, std::__1::allocator<long long> >, boost::detail::variant::void_, boost::detail::variant::void_, boost::detail::variant::void_, boost::detail::variant::void_, boost::detail::variant::void_, boost::detail::variant::void_, boost::detail::variant::void_> > > >)\n9   paddle::pybind::imperative_cross_entropy2(std::__1::shared_ptr<paddle::imperative::VarBase> const&, std::__1::shared_ptr<paddle::imperative::VarBase> const&, pybind11::args const&)\n10  void pybind11::cpp_function::initialize<std::__1::tuple<std::__1::shared_ptr<paddle::imperative::VarBase>, std::__1::shared_ptr<paddle::imperative::VarBase>, std::__1::shared_ptr<paddle::imperative::VarBase> > (*&)(std::__1::shared_ptr<paddle::imperative::VarBase> const&, std::__1::shared_ptr<paddle::imperative::VarBase> const&, pybind11::args const&), std::__1::tuple<std::__1::shared_ptr<paddle::imperative::VarBase>, std::__1::shared_ptr<paddle::imperative::VarBase>, std::__1::shared_ptr<paddle::imperative::VarBase> >, std::__1::shared_ptr<paddle::imperative::VarBase> const&, std::__1::shared_ptr<paddle::imperative::VarBase> const&, pybind11::args const&, pybind11::name, pybind11::scope, pybind11::sibling>(std::__1::tuple<std::__1::shared_ptr<paddle::imperative::VarBase>, std::__1::shared_ptr<paddle::imperative::VarBase>, std::__1::shared_ptr<paddle::imperative::VarBase> > (*&)(std::__1::shared_ptr<paddle::imperative::VarBase> const&, std::__1::shared_ptr<paddle::imperative::VarBase> const&, pybind11::args const&), std::__1::tuple<std::__1::shared_ptr<paddle::imperative::VarBase>, std::__1::shared_ptr<paddle::imperative::VarBase>, std::__1::shared_ptr<paddle::imperative::VarBase> > (*)(std::__1::shared_ptr<paddle::imperative::VarBase> const&, std::__1::shared_ptr<paddle::imperative::VarBase> const&, pybind11::args const&), pybind11::name const&, pybind11::scope const&, pybind11::sibling const&)::'lambda'(pybind11::detail::function_call&)::operator()(pybind11::detail::function_call&) const\n11  pybind11::cpp_function::dispatcher(_object*, _object*, _object*)\n\n----------------------\nError Message Summary:\n----------------------\nError: Variable value (label) of OP(fluid.layers.cross_entropy) expected >= 0 and < 1, but got 1. Please check label value. at (/home/teamcity/work/ef54dc8a5b211854/paddle/fluid/operators/cross_entropy_op.h:175)\n",
     "output_type": "error",
     "traceback": [
      "\u001b[0;31m---------------------------------------------------------------------------\u001b[0m",
      "\u001b[0;31mEnforceNotMet\u001b[0m                             Traceback (most recent call last)",
      "\u001b[0;32m<ipython-input-73-a2863d627626>\u001b[0m in \u001b[0;36m<module>\u001b[0;34m\u001b[0m\n\u001b[0;32m----> 1\u001b[0;31m \u001b[0ms1_loss\u001b[0m \u001b[0;34m=\u001b[0m \u001b[0mfluid\u001b[0m\u001b[0;34m.\u001b[0m\u001b[0mlayers\u001b[0m\u001b[0;34m.\u001b[0m\u001b[0mcross_entropy\u001b[0m\u001b[0;34m(\u001b[0m\u001b[0mps1\u001b[0m\u001b[0;34m,\u001b[0m \u001b[0ms1\u001b[0m\u001b[0;34m)\u001b[0m\u001b[0;34m\u001b[0m\u001b[0;34m\u001b[0m\u001b[0m\n\u001b[0m",
      "\u001b[0;32m~/opt/anaconda3/lib/python3.7/site-packages/paddle/fluid/layers/loss.py\u001b[0m in \u001b[0;36mcross_entropy\u001b[0;34m(input, label, soft_label, ignore_index)\u001b[0m\n\u001b[1;32m    239\u001b[0m     \"\"\"\n\u001b[1;32m    240\u001b[0m     \u001b[0;32mif\u001b[0m \u001b[0;32mnot\u001b[0m \u001b[0msoft_label\u001b[0m\u001b[0;34m:\u001b[0m\u001b[0;34m\u001b[0m\u001b[0;34m\u001b[0m\u001b[0m\n\u001b[0;32m--> 241\u001b[0;31m         \u001b[0;32mreturn\u001b[0m \u001b[0mcross_entropy2\u001b[0m\u001b[0;34m(\u001b[0m\u001b[0minput\u001b[0m\u001b[0;34m,\u001b[0m \u001b[0mlabel\u001b[0m\u001b[0;34m,\u001b[0m \u001b[0mignore_index\u001b[0m\u001b[0;34m)\u001b[0m\u001b[0;34m\u001b[0m\u001b[0;34m\u001b[0m\u001b[0m\n\u001b[0m\u001b[1;32m    242\u001b[0m \u001b[0;34m\u001b[0m\u001b[0m\n\u001b[1;32m    243\u001b[0m     \u001b[0;32mif\u001b[0m \u001b[0min_dygraph_mode\u001b[0m\u001b[0;34m(\u001b[0m\u001b[0;34m)\u001b[0m\u001b[0;34m:\u001b[0m\u001b[0;34m\u001b[0m\u001b[0;34m\u001b[0m\u001b[0m\n",
      "\u001b[0;32m~/opt/anaconda3/lib/python3.7/site-packages/paddle/fluid/layers/loss.py\u001b[0m in \u001b[0;36mcross_entropy2\u001b[0;34m(input, label, ignore_index)\u001b[0m\n\u001b[1;32m    260\u001b[0m     \u001b[0;32mif\u001b[0m \u001b[0min_dygraph_mode\u001b[0m\u001b[0;34m(\u001b[0m\u001b[0;34m)\u001b[0m\u001b[0;34m:\u001b[0m\u001b[0;34m\u001b[0m\u001b[0;34m\u001b[0m\u001b[0m\n\u001b[1;32m    261\u001b[0m         loss, _, _ = core.ops.cross_entropy2(input, label, 'ignore_index',\n\u001b[0;32m--> 262\u001b[0;31m                                              ignore_index)\n\u001b[0m\u001b[1;32m    263\u001b[0m         \u001b[0;32mreturn\u001b[0m \u001b[0mloss\u001b[0m\u001b[0;34m\u001b[0m\u001b[0;34m\u001b[0m\u001b[0m\n\u001b[1;32m    264\u001b[0m \u001b[0;34m\u001b[0m\u001b[0m\n",
      "\u001b[0;31mEnforceNotMet\u001b[0m: \n\n--------------------------------------------\nC++ Call Stacks (More useful to developers):\n--------------------------------------------\n0   std::__1::basic_string<char, std::__1::char_traits<char>, std::__1::allocator<char> > paddle::platform::GetTraceBackString<char const*>(char const*&&, char const*, int)\n1   paddle::platform::EnforceNotMet::EnforceNotMet(std::exception_ptr, char const*, int)\n2   paddle::operators::HardLabelCrossEntropyForwardFunctor<float>::operator()(long long) const\n3   paddle::operators::CrossEntropyOpKernel2<paddle::platform::CPUDeviceContext, float>::Compute(paddle::framework::ExecutionContext const&) const\n4   std::__1::__function::__func<paddle::framework::OpKernelRegistrarFunctor<paddle::platform::CPUPlace, false, 0ul, paddle::operators::CrossEntropyOpKernel2<paddle::platform::CPUDeviceContext, float>, paddle::operators::CrossEntropyOpKernel2<paddle::platform::CPUDeviceContext, double> >::operator()(char const*, char const*, int) const::'lambda'(paddle::framework::ExecutionContext const&), std::__1::allocator<paddle::framework::OpKernelRegistrarFunctor<paddle::platform::CPUPlace, false, 0ul, paddle::operators::CrossEntropyOpKernel2<paddle::platform::CPUDeviceContext, float>, paddle::operators::CrossEntropyOpKernel2<paddle::platform::CPUDeviceContext, double> >::operator()(char const*, char const*, int) const::'lambda'(paddle::framework::ExecutionContext const&)>, void (paddle::framework::ExecutionContext const&)>::operator()(paddle::framework::ExecutionContext const&)\n5   paddle::imperative::PreparedOp::Run(std::__1::map<std::__1::basic_string<char, std::__1::char_traits<char>, std::__1::allocator<char> >, std::__1::vector<std::__1::shared_ptr<paddle::imperative::VarBase>, std::__1::allocator<std::__1::shared_ptr<paddle::imperative::VarBase> > >, std::__1::less<std::__1::basic_string<char, std::__1::char_traits<char>, std::__1::allocator<char> > >, std::__1::allocator<std::__1::pair<std::__1::basic_string<char, std::__1::char_traits<char>, std::__1::allocator<char> > const, std::__1::vector<std::__1::shared_ptr<paddle::imperative::VarBase>, std::__1::allocator<std::__1::shared_ptr<paddle::imperative::VarBase> > > > > > const&, std::__1::map<std::__1::basic_string<char, std::__1::char_traits<char>, std::__1::allocator<char> >, std::__1::vector<std::__1::shared_ptr<paddle::imperative::VarBase>, std::__1::allocator<std::__1::shared_ptr<paddle::imperative::VarBase> > >, std::__1::less<std::__1::basic_string<char, std::__1::char_traits<char>, std::__1::allocator<char> > >, std::__1::allocator<std::__1::pair<std::__1::basic_string<char, std::__1::char_traits<char>, std::__1::allocator<char> > const, std::__1::vector<std::__1::shared_ptr<paddle::imperative::VarBase>, std::__1::allocator<std::__1::shared_ptr<paddle::imperative::VarBase> > > > > > const&, std::__1::unordered_map<std::__1::basic_string<char, std::__1::char_traits<char>, std::__1::allocator<char> >, boost::variant<boost::blank, int, float, std::__1::basic_string<char, std::__1::char_traits<char>, std::__1::allocator<char> >, std::__1::vector<int, std::__1::allocator<int> >, std::__1::vector<float, std::__1::allocator<float> >, std::__1::vector<std::__1::basic_string<char, std::__1::char_traits<char>, std::__1::allocator<char> >, std::__1::allocator<std::__1::basic_string<char, std::__1::char_traits<char>, std::__1::allocator<char> > > >, bool, std::__1::vector<bool, std::__1::allocator<bool> >, paddle::framework::BlockDesc*, long long, std::__1::vector<paddle::framework::BlockDesc*, std::__1::allocator<paddle::framework::BlockDesc*> >, std::__1::vector<long long, std::__1::allocator<long long> >, boost::detail::variant::void_, boost::detail::variant::void_, boost::detail::variant::void_, boost::detail::variant::void_, boost::detail::variant::void_, boost::detail::variant::void_, boost::detail::variant::void_>, std::__1::hash<std::__1::basic_string<char, std::__1::char_traits<char>, std::__1::allocator<char> > >, std::__1::equal_to<std::__1::basic_string<char, std::__1::char_traits<char>, std::__1::allocator<char> > >, std::__1::allocator<std::__1::pair<std::__1::basic_string<char, std::__1::char_traits<char>, std::__1::allocator<char> > const, boost::variant<boost::blank, int, float, std::__1::basic_string<char, std::__1::char_traits<char>, std::__1::allocator<char> >, std::__1::vector<int, std::__1::allocator<int> >, std::__1::vector<float, std::__1::allocator<float> >, std::__1::vector<std::__1::basic_string<char, std::__1::char_traits<char>, std::__1::allocator<char> >, std::__1::allocator<std::__1::basic_string<char, std::__1::char_traits<char>, std::__1::allocator<char> > > >, bool, std::__1::vector<bool, std::__1::allocator<bool> >, paddle::framework::BlockDesc*, long long, std::__1::vector<paddle::framework::BlockDesc*, std::__1::allocator<paddle::framework::BlockDesc*> >, std::__1::vector<long long, std::__1::allocator<long long> >, boost::detail::variant::void_, boost::detail::variant::void_, boost::detail::variant::void_, boost::detail::variant::void_, boost::detail::variant::void_, boost::detail::variant::void_, boost::detail::variant::void_> > > > const&)\n6   paddle::imperative::OpBase::Run(paddle::framework::OperatorBase const&, std::__1::map<std::__1::basic_string<char, std::__1::char_traits<char>, std::__1::allocator<char> >, std::__1::vector<std::__1::shared_ptr<paddle::imperative::VarBase>, std::__1::allocator<std::__1::shared_ptr<paddle::imperative::VarBase> > >, std::__1::less<std::__1::basic_string<char, std::__1::char_traits<char>, std::__1::allocator<char> > >, std::__1::allocator<std::__1::pair<std::__1::basic_string<char, std::__1::char_traits<char>, std::__1::allocator<char> > const, std::__1::vector<std::__1::shared_ptr<paddle::imperative::VarBase>, std::__1::allocator<std::__1::shared_ptr<paddle::imperative::VarBase> > > > > > const&, std::__1::map<std::__1::basic_string<char, std::__1::char_traits<char>, std::__1::allocator<char> >, std::__1::vector<std::__1::shared_ptr<paddle::imperative::VarBase>, std::__1::allocator<std::__1::shared_ptr<paddle::imperative::VarBase> > >, std::__1::less<std::__1::basic_string<char, std::__1::char_traits<char>, std::__1::allocator<char> > >, std::__1::allocator<std::__1::pair<std::__1::basic_string<char, std::__1::char_traits<char>, std::__1::allocator<char> > const, std::__1::vector<std::__1::shared_ptr<paddle::imperative::VarBase>, std::__1::allocator<std::__1::shared_ptr<paddle::imperative::VarBase> > > > > > const&, std::__1::unordered_map<std::__1::basic_string<char, std::__1::char_traits<char>, std::__1::allocator<char> >, boost::variant<boost::blank, int, float, std::__1::basic_string<char, std::__1::char_traits<char>, std::__1::allocator<char> >, std::__1::vector<int, std::__1::allocator<int> >, std::__1::vector<float, std::__1::allocator<float> >, std::__1::vector<std::__1::basic_string<char, std::__1::char_traits<char>, std::__1::allocator<char> >, std::__1::allocator<std::__1::basic_string<char, std::__1::char_traits<char>, std::__1::allocator<char> > > >, bool, std::__1::vector<bool, std::__1::allocator<bool> >, paddle::framework::BlockDesc*, long long, std::__1::vector<paddle::framework::BlockDesc*, std::__1::allocator<paddle::framework::BlockDesc*> >, std::__1::vector<long long, std::__1::allocator<long long> >, boost::detail::variant::void_, boost::detail::variant::void_, boost::detail::variant::void_, boost::detail::variant::void_, boost::detail::variant::void_, boost::detail::variant::void_, boost::detail::variant::void_>, std::__1::hash<std::__1::basic_string<char, std::__1::char_traits<char>, std::__1::allocator<char> > >, std::__1::equal_to<std::__1::basic_string<char, std::__1::char_traits<char>, std::__1::allocator<char> > >, std::__1::allocator<std::__1::pair<std::__1::basic_string<char, std::__1::char_traits<char>, std::__1::allocator<char> > const, boost::variant<boost::blank, int, float, std::__1::basic_string<char, std::__1::char_traits<char>, std::__1::allocator<char> >, std::__1::vector<int, std::__1::allocator<int> >, std::__1::vector<float, std::__1::allocator<float> >, std::__1::vector<std::__1::basic_string<char, std::__1::char_traits<char>, std::__1::allocator<char> >, std::__1::allocator<std::__1::basic_string<char, std::__1::char_traits<char>, std::__1::allocator<char> > > >, bool, std::__1::vector<bool, std::__1::allocator<bool> >, paddle::framework::BlockDesc*, long long, std::__1::vector<paddle::framework::BlockDesc*, std::__1::allocator<paddle::framework::BlockDesc*> >, std::__1::vector<long long, std::__1::allocator<long long> >, boost::detail::variant::void_, boost::detail::variant::void_, boost::detail::variant::void_, boost::detail::variant::void_, boost::detail::variant::void_, boost::detail::variant::void_, boost::detail::variant::void_> > > > const&, paddle::platform::Place const&)\n7   paddle::imperative::Tracer::TraceOp(std::__1::basic_string<char, std::__1::char_traits<char>, std::__1::allocator<char> > const&, std::__1::map<std::__1::basic_string<char, std::__1::char_traits<char>, std::__1::allocator<char> >, std::__1::vector<std::__1::shared_ptr<paddle::imperative::VarBase>, std::__1::allocator<std::__1::shared_ptr<paddle::imperative::VarBase> > >, std::__1::less<std::__1::basic_string<char, std::__1::char_traits<char>, std::__1::allocator<char> > >, std::__1::allocator<std::__1::pair<std::__1::basic_string<char, std::__1::char_traits<char>, std::__1::allocator<char> > const, std::__1::vector<std::__1::shared_ptr<paddle::imperative::VarBase>, std::__1::allocator<std::__1::shared_ptr<paddle::imperative::VarBase> > > > > > const&, std::__1::map<std::__1::basic_string<char, std::__1::char_traits<char>, std::__1::allocator<char> >, std::__1::vector<std::__1::shared_ptr<paddle::imperative::VarBase>, std::__1::allocator<std::__1::shared_ptr<paddle::imperative::VarBase> > >, std::__1::less<std::__1::basic_string<char, std::__1::char_traits<char>, std::__1::allocator<char> > >, std::__1::allocator<std::__1::pair<std::__1::basic_string<char, std::__1::char_traits<char>, std::__1::allocator<char> > const, std::__1::vector<std::__1::shared_ptr<paddle::imperative::VarBase>, std::__1::allocator<std::__1::shared_ptr<paddle::imperative::VarBase> > > > > > const&, std::__1::unordered_map<std::__1::basic_string<char, std::__1::char_traits<char>, std::__1::allocator<char> >, boost::variant<boost::blank, int, float, std::__1::basic_string<char, std::__1::char_traits<char>, std::__1::allocator<char> >, std::__1::vector<int, std::__1::allocator<int> >, std::__1::vector<float, std::__1::allocator<float> >, std::__1::vector<std::__1::basic_string<char, std::__1::char_traits<char>, std::__1::allocator<char> >, std::__1::allocator<std::__1::basic_string<char, std::__1::char_traits<char>, std::__1::allocator<char> > > >, bool, std::__1::vector<bool, std::__1::allocator<bool> >, paddle::framework::BlockDesc*, long long, std::__1::vector<paddle::framework::BlockDesc*, std::__1::allocator<paddle::framework::BlockDesc*> >, std::__1::vector<long long, std::__1::allocator<long long> >, boost::detail::variant::void_, boost::detail::variant::void_, boost::detail::variant::void_, boost::detail::variant::void_, boost::detail::variant::void_, boost::detail::variant::void_, boost::detail::variant::void_>, std::__1::hash<std::__1::basic_string<char, std::__1::char_traits<char>, std::__1::allocator<char> > >, std::__1::equal_to<std::__1::basic_string<char, std::__1::char_traits<char>, std::__1::allocator<char> > >, std::__1::allocator<std::__1::pair<std::__1::basic_string<char, std::__1::char_traits<char>, std::__1::allocator<char> > const, boost::variant<boost::blank, int, float, std::__1::basic_string<char, std::__1::char_traits<char>, std::__1::allocator<char> >, std::__1::vector<int, std::__1::allocator<int> >, std::__1::vector<float, std::__1::allocator<float> >, std::__1::vector<std::__1::basic_string<char, std::__1::char_traits<char>, std::__1::allocator<char> >, std::__1::allocator<std::__1::basic_string<char, std::__1::char_traits<char>, std::__1::allocator<char> > > >, bool, std::__1::vector<bool, std::__1::allocator<bool> >, paddle::framework::BlockDesc*, long long, std::__1::vector<paddle::framework::BlockDesc*, std::__1::allocator<paddle::framework::BlockDesc*> >, std::__1::vector<long long, std::__1::allocator<long long> >, boost::detail::variant::void_, boost::detail::variant::void_, boost::detail::variant::void_, boost::detail::variant::void_, boost::detail::variant::void_, boost::detail::variant::void_, boost::detail::variant::void_> > > >, paddle::platform::Place const&, bool)\n8   paddle::imperative::Tracer::TraceOp(std::__1::basic_string<char, std::__1::char_traits<char>, std::__1::allocator<char> > const&, std::__1::map<std::__1::basic_string<char, std::__1::char_traits<char>, std::__1::allocator<char> >, std::__1::vector<std::__1::shared_ptr<paddle::imperative::VarBase>, std::__1::allocator<std::__1::shared_ptr<paddle::imperative::VarBase> > >, std::__1::less<std::__1::basic_string<char, std::__1::char_traits<char>, std::__1::allocator<char> > >, std::__1::allocator<std::__1::pair<std::__1::basic_string<char, std::__1::char_traits<char>, std::__1::allocator<char> > const, std::__1::vector<std::__1::shared_ptr<paddle::imperative::VarBase>, std::__1::allocator<std::__1::shared_ptr<paddle::imperative::VarBase> > > > > > const&, std::__1::map<std::__1::basic_string<char, std::__1::char_traits<char>, std::__1::allocator<char> >, std::__1::vector<std::__1::shared_ptr<paddle::imperative::VarBase>, std::__1::allocator<std::__1::shared_ptr<paddle::imperative::VarBase> > >, std::__1::less<std::__1::basic_string<char, std::__1::char_traits<char>, std::__1::allocator<char> > >, std::__1::allocator<std::__1::pair<std::__1::basic_string<char, std::__1::char_traits<char>, std::__1::allocator<char> > const, std::__1::vector<std::__1::shared_ptr<paddle::imperative::VarBase>, std::__1::allocator<std::__1::shared_ptr<paddle::imperative::VarBase> > > > > > const&, std::__1::unordered_map<std::__1::basic_string<char, std::__1::char_traits<char>, std::__1::allocator<char> >, boost::variant<boost::blank, int, float, std::__1::basic_string<char, std::__1::char_traits<char>, std::__1::allocator<char> >, std::__1::vector<int, std::__1::allocator<int> >, std::__1::vector<float, std::__1::allocator<float> >, std::__1::vector<std::__1::basic_string<char, std::__1::char_traits<char>, std::__1::allocator<char> >, std::__1::allocator<std::__1::basic_string<char, std::__1::char_traits<char>, std::__1::allocator<char> > > >, bool, std::__1::vector<bool, std::__1::allocator<bool> >, paddle::framework::BlockDesc*, long long, std::__1::vector<paddle::framework::BlockDesc*, std::__1::allocator<paddle::framework::BlockDesc*> >, std::__1::vector<long long, std::__1::allocator<long long> >, boost::detail::variant::void_, boost::detail::variant::void_, boost::detail::variant::void_, boost::detail::variant::void_, boost::detail::variant::void_, boost::detail::variant::void_, boost::detail::variant::void_>, std::__1::hash<std::__1::basic_string<char, std::__1::char_traits<char>, std::__1::allocator<char> > >, std::__1::equal_to<std::__1::basic_string<char, std::__1::char_traits<char>, std::__1::allocator<char> > >, std::__1::allocator<std::__1::pair<std::__1::basic_string<char, std::__1::char_traits<char>, std::__1::allocator<char> > const, boost::variant<boost::blank, int, float, std::__1::basic_string<char, std::__1::char_traits<char>, std::__1::allocator<char> >, std::__1::vector<int, std::__1::allocator<int> >, std::__1::vector<float, std::__1::allocator<float> >, std::__1::vector<std::__1::basic_string<char, std::__1::char_traits<char>, std::__1::allocator<char> >, std::__1::allocator<std::__1::basic_string<char, std::__1::char_traits<char>, std::__1::allocator<char> > > >, bool, std::__1::vector<bool, std::__1::allocator<bool> >, paddle::framework::BlockDesc*, long long, std::__1::vector<paddle::framework::BlockDesc*, std::__1::allocator<paddle::framework::BlockDesc*> >, std::__1::vector<long long, std::__1::allocator<long long> >, boost::detail::variant::void_, boost::detail::variant::void_, boost::detail::variant::void_, boost::detail::variant::void_, boost::detail::variant::void_, boost::detail::variant::void_, boost::detail::variant::void_> > > >)\n9   paddle::pybind::imperative_cross_entropy2(std::__1::shared_ptr<paddle::imperative::VarBase> const&, std::__1::shared_ptr<paddle::imperative::VarBase> const&, pybind11::args const&)\n10  void pybind11::cpp_function::initialize<std::__1::tuple<std::__1::shared_ptr<paddle::imperative::VarBase>, std::__1::shared_ptr<paddle::imperative::VarBase>, std::__1::shared_ptr<paddle::imperative::VarBase> > (*&)(std::__1::shared_ptr<paddle::imperative::VarBase> const&, std::__1::shared_ptr<paddle::imperative::VarBase> const&, pybind11::args const&), std::__1::tuple<std::__1::shared_ptr<paddle::imperative::VarBase>, std::__1::shared_ptr<paddle::imperative::VarBase>, std::__1::shared_ptr<paddle::imperative::VarBase> >, std::__1::shared_ptr<paddle::imperative::VarBase> const&, std::__1::shared_ptr<paddle::imperative::VarBase> const&, pybind11::args const&, pybind11::name, pybind11::scope, pybind11::sibling>(std::__1::tuple<std::__1::shared_ptr<paddle::imperative::VarBase>, std::__1::shared_ptr<paddle::imperative::VarBase>, std::__1::shared_ptr<paddle::imperative::VarBase> > (*&)(std::__1::shared_ptr<paddle::imperative::VarBase> const&, std::__1::shared_ptr<paddle::imperative::VarBase> const&, pybind11::args const&), std::__1::tuple<std::__1::shared_ptr<paddle::imperative::VarBase>, std::__1::shared_ptr<paddle::imperative::VarBase>, std::__1::shared_ptr<paddle::imperative::VarBase> > (*)(std::__1::shared_ptr<paddle::imperative::VarBase> const&, std::__1::shared_ptr<paddle::imperative::VarBase> const&, pybind11::args const&), pybind11::name const&, pybind11::scope const&, pybind11::sibling const&)::'lambda'(pybind11::detail::function_call&)::operator()(pybind11::detail::function_call&) const\n11  pybind11::cpp_function::dispatcher(_object*, _object*, _object*)\n\n----------------------\nError Message Summary:\n----------------------\nError: Variable value (label) of OP(fluid.layers.cross_entropy) expected >= 0 and < 1, but got 1. Please check label value. at (/home/teamcity/work/ef54dc8a5b211854/paddle/fluid/operators/cross_entropy_op.h:175)\n"
     ]
    }
   ],
   "source": [
    "s1_loss = fluid.layers.cross_entropy(ps1, s1)"
   ]
  },
  {
   "cell_type": "code",
   "execution_count": 70,
   "metadata": {},
   "outputs": [
    {
     "name": "stdout",
     "output_type": "stream",
     "text": [
      "name tmp_10, dtype: VarType.INT32 shape: [2] \tlod: {}\n",
      "\tdim: 2\n",
      "\tlayout: NCHW\n",
      "\tdtype: int\n",
      "\tdata: [64 121]\n",
      "\n"
     ]
    }
   ],
   "source": [
    "sh = fluid.layers.shape(s1_loss)\n",
    "print(sh)"
   ]
  },
  {
   "cell_type": "code",
   "execution_count": null,
   "metadata": {},
   "outputs": [],
   "source": []
  }
 ],
 "metadata": {
  "kernelspec": {
   "display_name": "Python 3",
   "language": "python",
   "name": "python3"
  },
  "language_info": {
   "codemirror_mode": {
    "name": "ipython",
    "version": 3
   },
   "file_extension": ".py",
   "mimetype": "text/x-python",
   "name": "python",
   "nbconvert_exporter": "python",
   "pygments_lexer": "ipython3",
   "version": "3.7.6"
  }
 },
 "nbformat": 4,
 "nbformat_minor": 2
}
